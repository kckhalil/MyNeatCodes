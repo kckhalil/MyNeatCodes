{
 "cells": [
  {
   "cell_type": "markdown",
   "metadata": {},
   "source": [
    "# K-means clustering algorithm "
   ]
  },
  {
   "cell_type": "code",
   "execution_count": 10,
   "metadata": {},
   "outputs": [],
   "source": [
    "import numpy as np # imports\n",
    "import matplotlib.pyplot as plt"
   ]
  },
  {
   "cell_type": "code",
   "execution_count": 51,
   "metadata": {},
   "outputs": [],
   "source": [
    "def get_distance(x1, x2): # find distance between two vectors using pythagorian theorem\n",
    "    sum = 0\n",
    "    for i in range(len(x1)):\n",
    "        sum += (x1[i] - x2[i]) ** 2\n",
    "    return np.sqrt(sum)\n",
    "\n",
    "def get_data():\n",
    "    \n",
    "    X = [] # create an artificial data-set\n",
    "\n",
    "    for i in range(20):\n",
    "        X.append(np.random.uniform(low=1, high=20, size=(2)))\n",
    "\n",
    "    for i in range(20):\n",
    "        X.append(np.random.uniform(low=50, high=150, size=(2)))\n",
    "    \n",
    "    for i in range(20):\n",
    "        X.append(np.random.uniform(low=200, high=300, size=(2)))\n",
    "\n",
    "    for i in range(20):\n",
    "        X.append(np.random.uniform(low=400, high=600, size=(2)))\n",
    "    \n",
    "    return np.array(X)"
   ]
  },
  {
   "cell_type": "code",
   "execution_count": 52,
   "metadata": {},
   "outputs": [],
   "source": [
    "X = get_data() # create an artificial data-set"
   ]
  },
  {
   "cell_type": "code",
   "execution_count": 53,
   "metadata": {},
   "outputs": [
    {
     "data": {
      "image/png": "[encoded data removed]",
      "text/plain": [
       "<Figure size 432x288 with 1 Axes>"
      ]
     },
     "metadata": {
      "needs_background": "light"
     },
     "output_type": "display_data"
    }
   ],
   "source": [
    "plt.scatter(X[:,0],X[:,1])\n",
    "plt.show()"
   ]
  },
  {
   "cell_type": "code",
   "execution_count": 54,
   "metadata": {},
   "outputs": [
    {
     "name": "stdout",
     "output_type": "stream",
     "text": [
      "K-MEANS:  100\n",
      "K-MEANS:  1\n",
      "K-MEANS:  4\n",
      "K-MEANS:  8\n",
      "K-MEANS:  38\n",
      "K-MEANS:  44\n",
      "K-MEANS:  15\n",
      "K-MEANS:  0\n"
     ]
    }
   ],
   "source": [
    "k = 5\n",
    "max_iters = 100\n",
    "\n",
    "centroids = X[np.random.choice(range(len(X)), k, replace=False)] # randomly select k data point\n",
    "# centroids = [np.random.uniform(size=len(X[0])) for i in range(k)] # create k random points with X[0] length\n",
    "\n",
    "converged = False # Flag to terminate process after convergence \n",
    "current_iter = 0 \n",
    "\n",
    "while (not converged) and (current_iter < max_iters):\n",
    "\n",
    "    cluster_list = [[] for i in range(len(centroids))] # cluster for each centeroid\n",
    "\n",
    "    for x in X:  # Go through each data point\n",
    "        distances_list = []\n",
    "        for c in centroids:\n",
    "            distances_list.append(get_distance(c, x)) # get distance to each centeroid\n",
    "        cluster_list[int(np.argmin(distances_list))].append(x) # add for minimum distance\n",
    "\n",
    "    cluster_list = list((filter(None, cluster_list))) # remove clusters which are empty\n",
    "\n",
    "    prev_centroids = centroids.copy() # save centroids to compare later\n",
    "\n",
    "    centroids = []\n",
    "\n",
    "    for j in range(len(cluster_list)):\n",
    "        centroids.append(np.mean(cluster_list[j], axis=0)) # calculate the new clusters\n",
    "\n",
    "    pattern = np.abs(np.sum(prev_centroids) - np.sum(centroids)) # get rate of convergence\n",
    "\n",
    "    print('K-MEANS: ', int(pattern))\n",
    "\n",
    "    converged = (pattern == 0) # check for convergence\n",
    "\n",
    "    current_iter += 1"
   ]
  },
  {
   "cell_type": "code",
   "execution_count": 55,
   "metadata": {},
   "outputs": [
    {
     "data": {
      "image/png": "[encoded data removed]",
      "text/plain": [
       "<Figure size 432x288 with 1 Axes>"
      ]
     },
     "metadata": {
      "needs_background": "light"
     },
     "output_type": "display_data"
    }
   ],
   "source": [
    "cluster_list = np.array(cluster_list)\n",
    "for i in range(len(cluster_list)):\n",
    "    c = np.array(cluster_list[i])\n",
    "    plt.scatter(c[:,0],c[:,1])\n",
    "plt.show()"
   ]
  },
  {
   "cell_type": "code",
   "execution_count": null,
   "metadata": {},
   "outputs": [],
   "source": []
  }
 ],
 "metadata": {
  "kernelspec": {
   "display_name": "Python 3",
   "language": "python",
   "name": "python3"
  },
  "language_info": {
   "codemirror_mode": {
    "name": "ipython",
    "version": 3
   },
   "file_extension": ".py",
   "mimetype": "text/x-python",
   "name": "python",
   "nbconvert_exporter": "python",
   "pygments_lexer": "ipython3",
   "version": "3.5.2"
  }
 },
 "nbformat": 4,
 "nbformat_minor": 2
}
